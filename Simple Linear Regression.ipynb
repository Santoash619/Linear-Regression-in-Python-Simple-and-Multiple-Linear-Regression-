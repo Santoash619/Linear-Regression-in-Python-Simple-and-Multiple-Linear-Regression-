{
 "cells": [
  {
   "cell_type": "markdown",
   "id": "07e49aa8",
   "metadata": {
    "id": "07e49aa8"
   },
   "source": [
    "**Simple Linear Regression** is a type of Regression algorithms that models the relationship between a dependent variable and a single independent variable. The relationship shown by a Simple Linear Regression model is linear or a sloped straight line, hence it is called Simple Linear Regression."
   ]
  },
  {
   "cell_type": "markdown",
   "id": "4a36dad7",
   "metadata": {
    "id": "4a36dad7"
   },
   "source": [
    "#### Implementation of Simple Linear Regression\n",
    "**Problem Statement**-\n",
    "We are taking a dataset that has two variables: Salary (dependent variable) and Experience (Independent variable).\n",
    "\n",
    "The goals of this problem is:\n",
    "\n",
    "* We want to find out if there is any correlation between these two variables\n",
    "* We will find the best fit line for the dataset.\n",
    "* How the dependent variable is changing by changing the independent variable."
   ]
  },
  {
   "cell_type": "code",
   "execution_count": 7,
   "id": "1dd830dd",
   "metadata": {
    "id": "1dd830dd"
   },
   "outputs": [],
   "source": [
    "#Importing Basics libraries required\n",
    "import numpy as np\n",
    "import pandas as pd\n",
    "import matplotlib.pyplot as plt\n",
    "import seaborn as sns\n",
    "import warnings\n",
    "warnings.filterwarnings('ignore')"
   ]
  },
  {
   "cell_type": "markdown",
   "id": "fe6a6000",
   "metadata": {
    "id": "fe6a6000"
   },
   "source": [
    "### Step 1 : Data Loading:\n",
    "A sample data has been gathered which contains Experience as an independent feature & Salaries based on the experience as a dependent feature."
   ]
  },
  {
   "cell_type": "code",
   "execution_count": 8,
   "id": "3d4bdf23",
   "metadata": {
    "id": "3d4bdf23",
    "outputId": "23b1b2ab-5ad3-4a70-8d8e-14931ae16963"
   },
   "outputs": [
    {
     "ename": "FileNotFoundError",
     "evalue": "[Errno 2] No such file or directory: 'C:\\\\Users\\\\Admin\\\\Downloads\\\\Salary.xlsx'",
     "output_type": "error",
     "traceback": [
      "\u001b[1;31m---------------------------------------------------------------------------\u001b[0m",
      "\u001b[1;31mFileNotFoundError\u001b[0m                         Traceback (most recent call last)",
      "Cell \u001b[1;32mIn[8], line 1\u001b[0m\n\u001b[1;32m----> 1\u001b[0m data \u001b[38;5;241m=\u001b[39m pd\u001b[38;5;241m.\u001b[39mread_excel(\u001b[38;5;124mr\u001b[39m\u001b[38;5;124m'\u001b[39m\u001b[38;5;124mC:\u001b[39m\u001b[38;5;124m\\\u001b[39m\u001b[38;5;124mUsers\u001b[39m\u001b[38;5;124m\\\u001b[39m\u001b[38;5;124mAdmin\u001b[39m\u001b[38;5;124m\\\u001b[39m\u001b[38;5;124mDownloads\u001b[39m\u001b[38;5;124m\\\u001b[39m\u001b[38;5;124mSalary.xlsx\u001b[39m\u001b[38;5;124m'\u001b[39m)\n\u001b[0;32m      2\u001b[0m data\n",
      "File \u001b[1;32m~\\anaconda3\\Lib\\site-packages\\pandas\\util\\_decorators.py:211\u001b[0m, in \u001b[0;36mdeprecate_kwarg.<locals>._deprecate_kwarg.<locals>.wrapper\u001b[1;34m(*args, **kwargs)\u001b[0m\n\u001b[0;32m    209\u001b[0m     \u001b[38;5;28;01melse\u001b[39;00m:\n\u001b[0;32m    210\u001b[0m         kwargs[new_arg_name] \u001b[38;5;241m=\u001b[39m new_arg_value\n\u001b[1;32m--> 211\u001b[0m \u001b[38;5;28;01mreturn\u001b[39;00m func(\u001b[38;5;241m*\u001b[39margs, \u001b[38;5;241m*\u001b[39m\u001b[38;5;241m*\u001b[39mkwargs)\n",
      "File \u001b[1;32m~\\anaconda3\\Lib\\site-packages\\pandas\\util\\_decorators.py:331\u001b[0m, in \u001b[0;36mdeprecate_nonkeyword_arguments.<locals>.decorate.<locals>.wrapper\u001b[1;34m(*args, **kwargs)\u001b[0m\n\u001b[0;32m    325\u001b[0m \u001b[38;5;28;01mif\u001b[39;00m \u001b[38;5;28mlen\u001b[39m(args) \u001b[38;5;241m>\u001b[39m num_allow_args:\n\u001b[0;32m    326\u001b[0m     warnings\u001b[38;5;241m.\u001b[39mwarn(\n\u001b[0;32m    327\u001b[0m         msg\u001b[38;5;241m.\u001b[39mformat(arguments\u001b[38;5;241m=\u001b[39m_format_argument_list(allow_args)),\n\u001b[0;32m    328\u001b[0m         \u001b[38;5;167;01mFutureWarning\u001b[39;00m,\n\u001b[0;32m    329\u001b[0m         stacklevel\u001b[38;5;241m=\u001b[39mfind_stack_level(),\n\u001b[0;32m    330\u001b[0m     )\n\u001b[1;32m--> 331\u001b[0m \u001b[38;5;28;01mreturn\u001b[39;00m func(\u001b[38;5;241m*\u001b[39margs, \u001b[38;5;241m*\u001b[39m\u001b[38;5;241m*\u001b[39mkwargs)\n",
      "File \u001b[1;32m~\\anaconda3\\Lib\\site-packages\\pandas\\io\\excel\\_base.py:482\u001b[0m, in \u001b[0;36mread_excel\u001b[1;34m(io, sheet_name, header, names, index_col, usecols, squeeze, dtype, engine, converters, true_values, false_values, skiprows, nrows, na_values, keep_default_na, na_filter, verbose, parse_dates, date_parser, thousands, decimal, comment, skipfooter, convert_float, mangle_dupe_cols, storage_options)\u001b[0m\n\u001b[0;32m    480\u001b[0m \u001b[38;5;28;01mif\u001b[39;00m \u001b[38;5;129;01mnot\u001b[39;00m \u001b[38;5;28misinstance\u001b[39m(io, ExcelFile):\n\u001b[0;32m    481\u001b[0m     should_close \u001b[38;5;241m=\u001b[39m \u001b[38;5;28;01mTrue\u001b[39;00m\n\u001b[1;32m--> 482\u001b[0m     io \u001b[38;5;241m=\u001b[39m ExcelFile(io, storage_options\u001b[38;5;241m=\u001b[39mstorage_options, engine\u001b[38;5;241m=\u001b[39mengine)\n\u001b[0;32m    483\u001b[0m \u001b[38;5;28;01melif\u001b[39;00m engine \u001b[38;5;129;01mand\u001b[39;00m engine \u001b[38;5;241m!=\u001b[39m io\u001b[38;5;241m.\u001b[39mengine:\n\u001b[0;32m    484\u001b[0m     \u001b[38;5;28;01mraise\u001b[39;00m \u001b[38;5;167;01mValueError\u001b[39;00m(\n\u001b[0;32m    485\u001b[0m         \u001b[38;5;124m\"\u001b[39m\u001b[38;5;124mEngine should not be specified when passing \u001b[39m\u001b[38;5;124m\"\u001b[39m\n\u001b[0;32m    486\u001b[0m         \u001b[38;5;124m\"\u001b[39m\u001b[38;5;124man ExcelFile - ExcelFile already has the engine set\u001b[39m\u001b[38;5;124m\"\u001b[39m\n\u001b[0;32m    487\u001b[0m     )\n",
      "File \u001b[1;32m~\\anaconda3\\Lib\\site-packages\\pandas\\io\\excel\\_base.py:1652\u001b[0m, in \u001b[0;36mExcelFile.__init__\u001b[1;34m(self, path_or_buffer, engine, storage_options)\u001b[0m\n\u001b[0;32m   1650\u001b[0m     ext \u001b[38;5;241m=\u001b[39m \u001b[38;5;124m\"\u001b[39m\u001b[38;5;124mxls\u001b[39m\u001b[38;5;124m\"\u001b[39m\n\u001b[0;32m   1651\u001b[0m \u001b[38;5;28;01melse\u001b[39;00m:\n\u001b[1;32m-> 1652\u001b[0m     ext \u001b[38;5;241m=\u001b[39m inspect_excel_format(\n\u001b[0;32m   1653\u001b[0m         content_or_path\u001b[38;5;241m=\u001b[39mpath_or_buffer, storage_options\u001b[38;5;241m=\u001b[39mstorage_options\n\u001b[0;32m   1654\u001b[0m     )\n\u001b[0;32m   1655\u001b[0m     \u001b[38;5;28;01mif\u001b[39;00m ext \u001b[38;5;129;01mis\u001b[39;00m \u001b[38;5;28;01mNone\u001b[39;00m:\n\u001b[0;32m   1656\u001b[0m         \u001b[38;5;28;01mraise\u001b[39;00m \u001b[38;5;167;01mValueError\u001b[39;00m(\n\u001b[0;32m   1657\u001b[0m             \u001b[38;5;124m\"\u001b[39m\u001b[38;5;124mExcel file format cannot be determined, you must specify \u001b[39m\u001b[38;5;124m\"\u001b[39m\n\u001b[0;32m   1658\u001b[0m             \u001b[38;5;124m\"\u001b[39m\u001b[38;5;124man engine manually.\u001b[39m\u001b[38;5;124m\"\u001b[39m\n\u001b[0;32m   1659\u001b[0m         )\n",
      "File \u001b[1;32m~\\anaconda3\\Lib\\site-packages\\pandas\\io\\excel\\_base.py:1525\u001b[0m, in \u001b[0;36minspect_excel_format\u001b[1;34m(content_or_path, storage_options)\u001b[0m\n\u001b[0;32m   1522\u001b[0m \u001b[38;5;28;01mif\u001b[39;00m \u001b[38;5;28misinstance\u001b[39m(content_or_path, \u001b[38;5;28mbytes\u001b[39m):\n\u001b[0;32m   1523\u001b[0m     content_or_path \u001b[38;5;241m=\u001b[39m BytesIO(content_or_path)\n\u001b[1;32m-> 1525\u001b[0m \u001b[38;5;28;01mwith\u001b[39;00m get_handle(\n\u001b[0;32m   1526\u001b[0m     content_or_path, \u001b[38;5;124m\"\u001b[39m\u001b[38;5;124mrb\u001b[39m\u001b[38;5;124m\"\u001b[39m, storage_options\u001b[38;5;241m=\u001b[39mstorage_options, is_text\u001b[38;5;241m=\u001b[39m\u001b[38;5;28;01mFalse\u001b[39;00m\n\u001b[0;32m   1527\u001b[0m ) \u001b[38;5;28;01mas\u001b[39;00m handle:\n\u001b[0;32m   1528\u001b[0m     stream \u001b[38;5;241m=\u001b[39m handle\u001b[38;5;241m.\u001b[39mhandle\n\u001b[0;32m   1529\u001b[0m     stream\u001b[38;5;241m.\u001b[39mseek(\u001b[38;5;241m0\u001b[39m)\n",
      "File \u001b[1;32m~\\anaconda3\\Lib\\site-packages\\pandas\\io\\common.py:865\u001b[0m, in \u001b[0;36mget_handle\u001b[1;34m(path_or_buf, mode, encoding, compression, memory_map, is_text, errors, storage_options)\u001b[0m\n\u001b[0;32m    856\u001b[0m         handle \u001b[38;5;241m=\u001b[39m \u001b[38;5;28mopen\u001b[39m(\n\u001b[0;32m    857\u001b[0m             handle,\n\u001b[0;32m    858\u001b[0m             ioargs\u001b[38;5;241m.\u001b[39mmode,\n\u001b[1;32m   (...)\u001b[0m\n\u001b[0;32m    861\u001b[0m             newline\u001b[38;5;241m=\u001b[39m\u001b[38;5;124m\"\u001b[39m\u001b[38;5;124m\"\u001b[39m,\n\u001b[0;32m    862\u001b[0m         )\n\u001b[0;32m    863\u001b[0m     \u001b[38;5;28;01melse\u001b[39;00m:\n\u001b[0;32m    864\u001b[0m         \u001b[38;5;66;03m# Binary mode\u001b[39;00m\n\u001b[1;32m--> 865\u001b[0m         handle \u001b[38;5;241m=\u001b[39m \u001b[38;5;28mopen\u001b[39m(handle, ioargs\u001b[38;5;241m.\u001b[39mmode)\n\u001b[0;32m    866\u001b[0m     handles\u001b[38;5;241m.\u001b[39mappend(handle)\n\u001b[0;32m    868\u001b[0m \u001b[38;5;66;03m# Convert BytesIO or file objects passed with an encoding\u001b[39;00m\n",
      "\u001b[1;31mFileNotFoundError\u001b[0m: [Errno 2] No such file or directory: 'C:\\\\Users\\\\Admin\\\\Downloads\\\\Salary.xlsx'"
     ]
    }
   ],
   "source": [
    "data = pd.read_excel(r'C:\\Users\\Admin\\Downloads\\Salary.xlsx')\n",
    "data"
   ]
  },
  {
   "cell_type": "code",
   "execution_count": null,
   "id": "b16aba71",
   "metadata": {
    "id": "b16aba71",
    "outputId": "0917a29f-ae35-417d-cbae-eb5407561cde"
   },
   "outputs": [],
   "source": [
    "data.shape"
   ]
  },
  {
   "cell_type": "markdown",
   "id": "b40fa07a",
   "metadata": {
    "id": "b40fa07a"
   },
   "source": [
    "### Data Cleaning :\n",
    "Removal of missing or irrelevant data points if any. Also ensuring both columns are numeric in nature as the Experience & Salary both features are numerical observations."
   ]
  },
  {
   "cell_type": "code",
   "execution_count": null,
   "id": "a3960303",
   "metadata": {
    "id": "a3960303",
    "outputId": "60479ba7-b3e6-4651-e6b3-a7d4c5c0edef"
   },
   "outputs": [],
   "source": [
    "data.describe()"
   ]
  },
  {
   "cell_type": "code",
   "execution_count": null,
   "id": "a1790c4f",
   "metadata": {
    "id": "a1790c4f",
    "outputId": "c77f6938-53e7-4624-b114-2383009bf5c2"
   },
   "outputs": [],
   "source": [
    "data.info()"
   ]
  },
  {
   "cell_type": "code",
   "execution_count": null,
   "id": "f7fbbd86",
   "metadata": {
    "id": "f7fbbd86",
    "outputId": "1f0c37c6-e61b-43df-da88-6130d838f20a"
   },
   "outputs": [],
   "source": [
    "data.isnull().sum()"
   ]
  },
  {
   "cell_type": "markdown",
   "id": "99a450df",
   "metadata": {
    "id": "99a450df"
   },
   "source": [
    "As per the above observations we can see that both the variables are numeric in nature which means the data is in proper format. We can also observe that the columns/features do not have any missing values."
   ]
  },
  {
   "cell_type": "code",
   "execution_count": null,
   "id": "44305951",
   "metadata": {
    "id": "44305951",
    "outputId": "1485b3d7-9718-4708-fdb3-c032c0b5f0ea"
   },
   "outputs": [],
   "source": [
    "#Assumption 1: There should be no outliers in the data.\n",
    "#Check using boxplot.\n",
    "for i in data.columns:\n",
    "    data.boxplot(column=i)\n",
    "    plt.show()"
   ]
  },
  {
   "cell_type": "code",
   "execution_count": null,
   "id": "c3ff0760",
   "metadata": {
    "id": "c3ff0760",
    "outputId": "59551c03-b55d-46a1-eb09-1b21a09d39cf"
   },
   "outputs": [],
   "source": [
    "#Assumption 2:Assumption of Linearity:Every ind var should have a\n",
    "#linear relationship with the dep var.\n",
    "\n",
    "sns.lmplot(data=data,x='Experience',y='Salary')\n",
    "plt.show();"
   ]
  },
  {
   "cell_type": "markdown",
   "id": "c9a8390b",
   "metadata": {
    "id": "c9a8390b"
   },
   "source": [
    "### Step 4: Data Splitting"
   ]
  },
  {
   "cell_type": "code",
   "execution_count": null,
   "id": "a83f2866",
   "metadata": {
    "id": "a83f2866"
   },
   "outputs": [],
   "source": [
    "x= data.iloc[:, :-1].values\n",
    "y= data.iloc[:, -1].values"
   ]
  },
  {
   "cell_type": "code",
   "execution_count": null,
   "id": "432309a9",
   "metadata": {
    "id": "432309a9",
    "outputId": "22f2177d-a27f-41ad-ad3b-5bd61e285327"
   },
   "outputs": [],
   "source": [
    "y"
   ]
  },
  {
   "cell_type": "code",
   "execution_count": null,
   "id": "b0ed9dc0",
   "metadata": {
    "id": "b0ed9dc0",
    "outputId": "86c1081a-31b7-47e4-8404-e65ac740fe28"
   },
   "outputs": [],
   "source": [
    "#Assumption of Normality: The dependent variable should follow an\n",
    "#approximate normal distribution\n",
    "sns.distplot(y)\n",
    "plt.show()"
   ]
  },
  {
   "cell_type": "code",
   "execution_count": null,
   "id": "b37d802a",
   "metadata": {
    "id": "b37d802a"
   },
   "outputs": [],
   "source": [
    "\"\"\"\n",
    "# Log transformation\n",
    "import numpy as np\n",
    "y_log  = np.log(y)\n",
    "\"\"\""
   ]
  },
  {
   "cell_type": "code",
   "execution_count": null,
   "id": "7ba2ae58",
   "metadata": {
    "id": "7ba2ae58"
   },
   "outputs": [],
   "source": [
    "#sns.distplot(y_log)\n",
    "#plt.show()"
   ]
  },
  {
   "cell_type": "code",
   "execution_count": null,
   "id": "ec25a968",
   "metadata": {
    "id": "ec25a968"
   },
   "outputs": [],
   "source": [
    "# Splitting the dataset into training and test set.\n",
    "from sklearn.model_selection import train_test_split\n",
    "x_train, x_test, y_train, y_test= train_test_split(x, y, test_size= 1/3 , random_state=0)"
   ]
  },
  {
   "cell_type": "code",
   "execution_count": null,
   "id": "12b6069d",
   "metadata": {
    "id": "12b6069d",
    "outputId": "abd65844-b04b-451c-f033-1fecf2d0db51"
   },
   "outputs": [],
   "source": [
    "print(x_train.shape)\n",
    "print(x_test.shape)\n",
    "print(y_train.shape)\n",
    "print(y_test.shape)"
   ]
  },
  {
   "cell_type": "code",
   "execution_count": null,
   "id": "d93ef9fc",
   "metadata": {
    "id": "d93ef9fc",
    "outputId": "637323d9-0e5d-48b7-d1b3-6d48ad34cbb5"
   },
   "outputs": [],
   "source": [
    "#Fitting the Simple Linear Regression model to the training dataset\n",
    "from sklearn.linear_model import LinearRegression\n",
    "#create a model object\n",
    "lm = LinearRegression()\n",
    "#train the model object\n",
    "lm.fit(x_train,y_train)\n",
    "\n",
    "# print intercept and coefficients\n",
    "print(lm.intercept_)\n",
    "print(lm.coef_)"
   ]
  },
  {
   "cell_type": "code",
   "execution_count": null,
   "id": "fd89083e",
   "metadata": {
    "id": "fd89083e"
   },
   "outputs": [],
   "source": [
    "#Prediction of Test and Training set result\n",
    "y_pred= lm.predict(x_test)\n",
    "y_predtrain= lm.predict(x_train)"
   ]
  },
  {
   "cell_type": "code",
   "execution_count": 9,
   "id": "01e30d8e",
   "metadata": {
    "id": "01e30d8e",
    "outputId": "cd62164b-3143-40b9-aa57-7e484856f476"
   },
   "outputs": [
    {
     "ename": "NameError",
     "evalue": "name 'x_train' is not defined",
     "output_type": "error",
     "traceback": [
      "\u001b[1;31m---------------------------------------------------------------------------\u001b[0m",
      "\u001b[1;31mNameError\u001b[0m                                 Traceback (most recent call last)",
      "Cell \u001b[1;32mIn[9], line 1\u001b[0m\n\u001b[1;32m----> 1\u001b[0m plt\u001b[38;5;241m.\u001b[39mscatter(x_train, y_train, color\u001b[38;5;241m=\u001b[39m\u001b[38;5;124m\"\u001b[39m\u001b[38;5;124mgreen\u001b[39m\u001b[38;5;124m\"\u001b[39m)\n\u001b[0;32m      2\u001b[0m plt\u001b[38;5;241m.\u001b[39mplot(x_train, y_predtrain, color\u001b[38;5;241m=\u001b[39m\u001b[38;5;124m\"\u001b[39m\u001b[38;5;124mred\u001b[39m\u001b[38;5;124m\"\u001b[39m)\n\u001b[0;32m      3\u001b[0m plt\u001b[38;5;241m.\u001b[39mtitle(\u001b[38;5;124m\"\u001b[39m\u001b[38;5;124mSalary vs Experience (Training Dataset)\u001b[39m\u001b[38;5;124m\"\u001b[39m)\n",
      "\u001b[1;31mNameError\u001b[0m: name 'x_train' is not defined"
     ]
    }
   ],
   "source": [
    "plt.scatter(x_train, y_train, color=\"green\")\n",
    "plt.plot(x_train, y_predtrain, color=\"red\")\n",
    "plt.title(\"Salary vs Experience (Training Dataset)\")\n",
    "plt.xlabel(\"Years of Experience\")\n",
    "plt.ylabel(\"Salary(In Rupees)\")\n",
    "plt.show()"
   ]
  },
  {
   "cell_type": "code",
   "execution_count": 5,
   "id": "a22d1591",
   "metadata": {
    "id": "a22d1591",
    "outputId": "beb70e44-9049-49ad-c766-8115b831b49d"
   },
   "outputs": [
    {
     "ename": "NameError",
     "evalue": "name 'x_test' is not defined",
     "output_type": "error",
     "traceback": [
      "\u001b[1;31m---------------------------------------------------------------------------\u001b[0m",
      "\u001b[1;31mNameError\u001b[0m                                 Traceback (most recent call last)",
      "Cell \u001b[1;32mIn[5], line 2\u001b[0m\n\u001b[0;32m      1\u001b[0m \u001b[38;5;66;03m#visualizing the Test set results\u001b[39;00m\n\u001b[1;32m----> 2\u001b[0m plt\u001b[38;5;241m.\u001b[39mscatter(x_test, y_test, color\u001b[38;5;241m=\u001b[39m\u001b[38;5;124m\"\u001b[39m\u001b[38;5;124mblue\u001b[39m\u001b[38;5;124m\"\u001b[39m)\n\u001b[0;32m      3\u001b[0m plt\u001b[38;5;241m.\u001b[39mplot(x_train, y_predtrain, color\u001b[38;5;241m=\u001b[39m\u001b[38;5;124m\"\u001b[39m\u001b[38;5;124mred\u001b[39m\u001b[38;5;124m\"\u001b[39m)\n\u001b[0;32m      4\u001b[0m plt\u001b[38;5;241m.\u001b[39mtitle(\u001b[38;5;124m\"\u001b[39m\u001b[38;5;124mSalary vs Experience (Test Dataset)\u001b[39m\u001b[38;5;124m\"\u001b[39m)\n",
      "\u001b[1;31mNameError\u001b[0m: name 'x_test' is not defined"
     ]
    }
   ],
   "source": [
    "#visualizing the Test set results\n",
    "plt.scatter(x_test, y_test, color=\"blue\")\n",
    "plt.plot(x_train, y_predtrain, color=\"red\")\n",
    "plt.title(\"Salary vs Experience (Test Dataset)\")\n",
    "plt.xlabel(\"Years of Experience\")\n",
    "plt.ylabel(\"Salary(In Rupees)\")\n",
    "plt.show()"
   ]
  },
  {
   "cell_type": "code",
   "execution_count": null,
   "id": "80833cda",
   "metadata": {
    "id": "80833cda",
    "outputId": "7feffde2-f718-4687-f747-3ec538450c15"
   },
   "outputs": [
    {
     "data": {
      "text/html": [
       "<div>\n",
       "<style scoped>\n",
       "    .dataframe tbody tr th:only-of-type {\n",
       "        vertical-align: middle;\n",
       "    }\n",
       "\n",
       "    .dataframe tbody tr th {\n",
       "        vertical-align: top;\n",
       "    }\n",
       "\n",
       "    .dataframe thead th {\n",
       "        text-align: right;\n",
       "    }\n",
       "</style>\n",
       "<table border=\"1\" class=\"dataframe\">\n",
       "  <thead>\n",
       "    <tr style=\"text-align: right;\">\n",
       "      <th></th>\n",
       "      <th>Experience</th>\n",
       "      <th>Actual Salary</th>\n",
       "      <th>Predicted Salary</th>\n",
       "    </tr>\n",
       "  </thead>\n",
       "  <tbody>\n",
       "    <tr>\n",
       "      <th>0</th>\n",
       "      <td>3.6</td>\n",
       "      <td>47900</td>\n",
       "      <td>50372.211512</td>\n",
       "    </tr>\n",
       "    <tr>\n",
       "      <th>1</th>\n",
       "      <td>1.8</td>\n",
       "      <td>34900</td>\n",
       "      <td>37632.124077</td>\n",
       "    </tr>\n",
       "    <tr>\n",
       "      <th>2</th>\n",
       "      <td>3.0</td>\n",
       "      <td>49000</td>\n",
       "      <td>46125.515701</td>\n",
       "    </tr>\n",
       "    <tr>\n",
       "      <th>3</th>\n",
       "      <td>1.8</td>\n",
       "      <td>34000</td>\n",
       "      <td>37632.124077</td>\n",
       "    </tr>\n",
       "    <tr>\n",
       "      <th>4</th>\n",
       "      <td>1.5</td>\n",
       "      <td>35900</td>\n",
       "      <td>35508.776172</td>\n",
       "    </tr>\n",
       "    <tr>\n",
       "      <th>5</th>\n",
       "      <td>4.9</td>\n",
       "      <td>60000</td>\n",
       "      <td>59573.385771</td>\n",
       "    </tr>\n",
       "    <tr>\n",
       "      <th>6</th>\n",
       "      <td>1.6</td>\n",
       "      <td>32000</td>\n",
       "      <td>36216.558807</td>\n",
       "    </tr>\n",
       "    <tr>\n",
       "      <th>7</th>\n",
       "      <td>3.5</td>\n",
       "      <td>45000</td>\n",
       "      <td>49664.428877</td>\n",
       "    </tr>\n",
       "  </tbody>\n",
       "</table>\n",
       "</div>"
      ],
      "text/plain": [
       "   Experience  Actual Salary  Predicted Salary\n",
       "0         3.6          47900      50372.211512\n",
       "1         1.8          34900      37632.124077\n",
       "2         3.0          49000      46125.515701\n",
       "3         1.8          34000      37632.124077\n",
       "4         1.5          35900      35508.776172\n",
       "5         4.9          60000      59573.385771\n",
       "6         1.6          32000      36216.558807\n",
       "7         3.5          45000      49664.428877"
      ]
     },
     "execution_count": 26,
     "metadata": {},
     "output_type": "execute_result"
    }
   ],
   "source": [
    "import pandas as pd\n",
    "\n",
    "# Creating a DataFrame with x_test, y_test, and y_pred\n",
    "results_df = pd.DataFrame({'Experience': x_test.squeeze(), 'Actual Salary': y_test, 'Predicted Salary': y_pred})\n",
    "results_df"
   ]
  },
  {
   "cell_type": "code",
   "execution_count": null,
   "id": "bd970069",
   "metadata": {
    "id": "bd970069",
    "outputId": "5657417d-3a29-45f6-a203-a003f066583c"
   },
   "outputs": [
    {
     "data": {
      "image/png": "[encoded data removed]",
      "text/plain": [
       "<Figure size 640x480 with 1 Axes>"
      ]
     },
     "metadata": {},
     "output_type": "display_data"
    }
   ],
   "source": [
    "results_df[\"Actual Salary\"].plot(color=\"blue\")\n",
    "results_df[\"Predicted Salary\"].plot(color=\"orange\")\n",
    "plt.show()"
   ]
  },
  {
   "cell_type": "code",
   "execution_count": null,
   "id": "71fb01e3",
   "metadata": {
    "id": "71fb01e3",
    "outputId": "249d6111-d855-4c68-a86f-581bfc7b24ea"
   },
   "outputs": [
    {
     "data": {
      "text/html": [
       "<div>\n",
       "<style scoped>\n",
       "    .dataframe tbody tr th:only-of-type {\n",
       "        vertical-align: middle;\n",
       "    }\n",
       "\n",
       "    .dataframe tbody tr th {\n",
       "        vertical-align: top;\n",
       "    }\n",
       "\n",
       "    .dataframe thead th {\n",
       "        text-align: right;\n",
       "    }\n",
       "</style>\n",
       "<table border=\"1\" class=\"dataframe\">\n",
       "  <thead>\n",
       "    <tr style=\"text-align: right;\">\n",
       "      <th></th>\n",
       "      <th>Experience</th>\n",
       "      <th>Actual Salary</th>\n",
       "      <th>Predicted Salary</th>\n",
       "      <th>Residual</th>\n",
       "    </tr>\n",
       "  </thead>\n",
       "  <tbody>\n",
       "    <tr>\n",
       "      <th>0</th>\n",
       "      <td>3.6</td>\n",
       "      <td>47900</td>\n",
       "      <td>50372.211512</td>\n",
       "      <td>-2472.211512</td>\n",
       "    </tr>\n",
       "    <tr>\n",
       "      <th>1</th>\n",
       "      <td>1.8</td>\n",
       "      <td>34900</td>\n",
       "      <td>37632.124077</td>\n",
       "      <td>-2732.124077</td>\n",
       "    </tr>\n",
       "    <tr>\n",
       "      <th>2</th>\n",
       "      <td>3.0</td>\n",
       "      <td>49000</td>\n",
       "      <td>46125.515701</td>\n",
       "      <td>2874.484299</td>\n",
       "    </tr>\n",
       "    <tr>\n",
       "      <th>3</th>\n",
       "      <td>1.8</td>\n",
       "      <td>34000</td>\n",
       "      <td>37632.124077</td>\n",
       "      <td>-3632.124077</td>\n",
       "    </tr>\n",
       "    <tr>\n",
       "      <th>4</th>\n",
       "      <td>1.5</td>\n",
       "      <td>35900</td>\n",
       "      <td>35508.776172</td>\n",
       "      <td>391.223828</td>\n",
       "    </tr>\n",
       "    <tr>\n",
       "      <th>5</th>\n",
       "      <td>4.9</td>\n",
       "      <td>60000</td>\n",
       "      <td>59573.385771</td>\n",
       "      <td>426.614229</td>\n",
       "    </tr>\n",
       "    <tr>\n",
       "      <th>6</th>\n",
       "      <td>1.6</td>\n",
       "      <td>32000</td>\n",
       "      <td>36216.558807</td>\n",
       "      <td>-4216.558807</td>\n",
       "    </tr>\n",
       "    <tr>\n",
       "      <th>7</th>\n",
       "      <td>3.5</td>\n",
       "      <td>45000</td>\n",
       "      <td>49664.428877</td>\n",
       "      <td>-4664.428877</td>\n",
       "    </tr>\n",
       "  </tbody>\n",
       "</table>\n",
       "</div>"
      ],
      "text/plain": [
       "   Experience  Actual Salary  Predicted Salary     Residual\n",
       "0         3.6          47900      50372.211512 -2472.211512\n",
       "1         1.8          34900      37632.124077 -2732.124077\n",
       "2         3.0          49000      46125.515701  2874.484299\n",
       "3         1.8          34000      37632.124077 -3632.124077\n",
       "4         1.5          35900      35508.776172   391.223828\n",
       "5         4.9          60000      59573.385771   426.614229\n",
       "6         1.6          32000      36216.558807 -4216.558807\n",
       "7         3.5          45000      49664.428877 -4664.428877"
      ]
     },
     "execution_count": 28,
     "metadata": {},
     "output_type": "execute_result"
    }
   ],
   "source": [
    "results_df[\"Residual\"]=results_df[\"Actual Salary\"]-results_df[\"Predicted Salary\"]\n",
    "results_df"
   ]
  },
  {
   "cell_type": "code",
   "execution_count": null,
   "id": "e619f258",
   "metadata": {
    "id": "e619f258",
    "outputId": "4724ce72-51fe-407d-9cff-31aa5288a696"
   },
   "outputs": [
    {
     "name": "stdout",
     "output_type": "stream",
     "text": [
      "R-squared: 0.8877894624797882\n"
     ]
    }
   ],
   "source": [
    "from sklearn.metrics import r2_score\n",
    "r2=r2_score(y_test,y_pred)\n",
    "print(\"R-squared:\",r2)"
   ]
  },
  {
   "cell_type": "code",
   "execution_count": null,
   "id": "f9c50047",
   "metadata": {
    "id": "f9c50047"
   },
   "outputs": [],
   "source": []
  }
 ],
 "metadata": {
  "colab": {
   "provenance": []
  },
  "kernelspec": {
   "display_name": "Python 3 (ipykernel)",
   "language": "python",
   "name": "python3"
  },
  "language_info": {
   "codemirror_mode": {
    "name": "ipython",
    "version": 3
   },
   "file_extension": ".py",
   "mimetype": "text/x-python",
   "name": "python",
   "nbconvert_exporter": "python",
   "pygments_lexer": "ipython3",
   "version": "3.11.3"
  }
 },
 "nbformat": 4,
 "nbformat_minor": 5
}
